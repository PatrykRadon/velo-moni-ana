{
 "cells": [
  {
   "cell_type": "markdown",
   "metadata": {},
   "source": [
    "# Utility algorithms:\n",
    "\n",
    "### Recognize evolutions of the same clusers\n",
    "\n",
    "**Metod:** Cosine simmilarity matrix, cluster alignment using local threshold\n",
    "\n",
    "**Parameters:**\n",
    "* Position\n",
    "* Point count / avg\n",
    "* Blair-Bliss (density) \n",
    "* Correlation coeffitience (roundness) \n",
    "* Linear trend direction \n",
    "\n",
    "\n",
    "# Phase 1: Outlier/novelty detection on sensors\n",
    "\n",
    "### For whole map generate scores for each step's:\n",
    "\n",
    "1) Novelty: In comparison to previous measurements from same calibration \n",
    "\n",
    "**Metod:**\n",
    "    Streaming RRCF\n",
    "\n",
    "**Parameters:**\n",
    "* New points count / avg\n",
    "* Lost points count / avg\n",
    "* Number of new clusters / avg (Use cluster recognition algorithm)\n",
    "* Number of lost clusters / avg\n",
    "* New points in clusters count / avg\n",
    "* Lost points in clusters count / avg\n",
    "\n",
    "2) Outlierness : In comparison to other sensors / previous calibrations data\n",
    "\n",
    "**Metod:** Batch RRCF\n",
    "\n",
    "**Parameters:**\n",
    "* Directional density imbalance (Steepness of maximum imbalance axis)\n",
    "* Local density imbalance (Standard deviation of KNN distance sum)\n",
    "* Total points count / total\n",
    "* Number of clusters / avg\n",
    "* Points in clusters / avg\n",
    "\n",
    "# Phase 2: Sensor noise progression forecasting\n",
    "\n",
    "\n",
    "### For each sensor forecast a set of measurements:\n",
    "\n",
    "**Metod:** Holt-Winters\n",
    "\n",
    "**Parameters:**\n",
    "* Directional density imbalance (Steepness of maximum imbalance axis)\n",
    "* Local density imbalance (Standard deviation of KNN distance sum)\n",
    "* Total points count\n",
    "* Number of clusters\n",
    "* Points in clusters\n",
    "\n"
   ]
  },
  {
   "cell_type": "code",
   "execution_count": 16,
   "metadata": {},
   "outputs": [],
   "source": [
    "import numpy as np\n",
    "import pandas as pd\n",
    "import matplotlib.pyplot as plt\n",
    "import seaborn as sns\n",
    "from sklearn.datasets import make_blobs\n",
    "import rrcf\n",
    "from sklearn.cluster import DBSCAN\n",
    "from sklearn.linear_model import LinearRegression"
   ]
  },
  {
   "cell_type": "markdown",
   "metadata": {},
   "source": [
    "# Phase 0\n",
    "\n",
    "\n",
    "### Simulated data generation"
   ]
  },
  {
   "cell_type": "code",
   "execution_count": 17,
   "metadata": {},
   "outputs": [],
   "source": [
    "index = 0\n",
    "lines = []\n",
    "blobs = []\n",
    "\n",
    "D_MIN = 10\n",
    "\n",
    "def make_line(h, w, line_len):\n",
    "    alpha = np.random.uniform(0, np.pi)\n",
    "    fun = np.poly1d([np.tan(alpha),np.random.randint(0, h)])\n",
    "    start_X = np.random.randint(0, w)\n",
    "    # X = np.uniform(start_X, start_X + line_len*np.cos(alpha), size=line_len)\n",
    "    X = np.linspace(start_X, start_X + line_len*np.cos(alpha), num=line_len)\n",
    "    Y = fun(X)\n",
    "    return np.vstack((X%w, Y%h)).T.astype(int)\n",
    "\n",
    "\n",
    "def make_blob(n_samples, avg_std = 5, size=256):\n",
    "    return make_blobs(n_samples,\n",
    "                      cluster_std=np.abs(np.random.randn()*5+1), \n",
    "                      centers=1, \n",
    "                      center_box=(0,size*0.7))[0].astype(int)"
   ]
  },
  {
   "cell_type": "code",
   "execution_count": 18,
   "metadata": {},
   "outputs": [],
   "source": [
    "def dice_roll():\n",
    "    return np.random.rand()\n",
    "\n",
    "\n",
    "def randmap_generator(gaussian_blob_prob, line_prob, n=100, starting_map=np.zeros((256,256)), amplifying_factor=300):\n",
    "    randmap = starting_map\n",
    "    while n > 0:\n",
    "        yield randmap\n",
    "        \n",
    "        if dice_roll() < gaussian_blob_prob:\n",
    "            for x, y in make_blob(n_samples=np.abs(np.random.randint(40)),size=256):\n",
    "                randmap[x, y] = amplifying_factor\n",
    "            blobs.append(index)\n",
    "        elif dice_roll() < line_prob:\n",
    "            for x, y in make_line(256, 256, np.abs(np.random.randint(40))):\n",
    "                randmap[x, y] = amplifying_factor\n",
    "            lines.append(index)\n",
    "        else:\n",
    "            randmap = np.maximum(randmap, np.random.binomial(n=1, p=0.0006,size=(256,256))*amplifying_factor)\n",
    "        randmap *= np.random.binomial(n=1, p=0.8,size=(256,256))\n",
    "        n -= 1\n",
    "        \n",
    "    "
   ]
  },
  {
   "cell_type": "markdown",
   "metadata": {},
   "source": [
    "### Utility algorithms"
   ]
  },
  {
   "cell_type": "code",
   "execution_count": 19,
   "metadata": {},
   "outputs": [],
   "source": [
    "def get_clusters(map_matrix, clustering_algorithm):\n",
    "    map_points = np.array(\n",
    "                    list(\n",
    "                        zip(np.where(map_matrix != 0)[0],\n",
    "                            np.where(map_matrix != 0)[1])\n",
    "                    ))\n",
    "    \n",
    "    if len(map_points) == 0:\n",
    "        return []\n",
    "    \n",
    "    clustering_algorithm.fit(map_points)\n",
    "    clustered_points = np.hstack((\n",
    "                                dbscan.labels_.reshape(-1,1),\n",
    "                                map_points\n",
    "                                ))\n",
    "    return clustered_points"
   ]
  },
  {
   "cell_type": "code",
   "execution_count": 20,
   "metadata": {},
   "outputs": [],
   "source": [
    "def measure_clusters(clustered_points):\n",
    "    clusters=[]\n",
    "    cluster_centroids=[]\n",
    "    for cluster_number in np.sort(\n",
    "                            np.unique(\n",
    "                                clustered_points[:, 0]\n",
    "                            )):\n",
    "        if cluster_number != -1:\n",
    "            \n",
    "            points_of_cluster = clustered_points[np.where(clustered_points[:,0] == cluster_number), 1:] \n",
    "            points_of_cluster = np.squeeze(points_of_cluster)\n",
    "            position, cluster_metrics = get_metrics(points_of_cluster)\n",
    "            clusters.append(cluster_metrics)\n",
    "            cluster_centroids.append(position)\n",
    "    return np.array(cluster_centroids), np.array(clusters)\n",
    "\n",
    "\n",
    "def get_metrics(cluster_points):\n",
    "    #returns:\n",
    "    # Position\n",
    "    # Point count / avg\n",
    "    # Blair-Bliss (density) \n",
    "    # Correlation coeffitience (roundness) \n",
    "    # Linear trend direction \n",
    "    position = cluster_points.mean(0)\n",
    "    \n",
    "    point_count = cluster_points.shape[0] / 100\n",
    "    density = np.sqrt(\n",
    "                np.sum(\n",
    "                    (cluster_points - cluster_points.mean(0))**2, 1)\n",
    "                ).mean()\n",
    "    roundness = np.abs(np.corrcoef(cluster_points.T + np.random.normal(scale=1e-8 ,size=cluster_points.T.shape))[0,1])\n",
    "    direction = np.arctan(LinearRegression() \\\n",
    "                .fit(\n",
    "                    X = cluster_points[:, 0].reshape(-1,1), \n",
    "                    y = cluster_points[:, 1].reshape(-1,1)) \\\n",
    "                .coef_[0,0])\n",
    "    return position, np.hstack((point_count,\n",
    "                                density,\n",
    "                                roundness,\n",
    "                                direction))\n",
    "\n",
    "    \n",
    "def l2_axis_norm(M, axis=1):\n",
    "    return (np.sum(np.abs(M)**2,axis=axis)**(1./2)\n",
    "           ).reshape(-1,1)\n",
    "\n",
    "\n",
    "def bi_directional_softmax(M):\n",
    "    row_wise = np.exp(M) / np.sum(np.exp(M), axis=0).reshape(1,-1)\n",
    "    column_wise = np.exp(M) / np.sum(np.exp(M), axis=1).reshape(-1,1)\n",
    "    return (2*row_wise*column_wise)/(row_wise + column_wise)\n",
    "\n",
    "def find_strong_max(M):\n",
    "    maxed_M = np.zeros_like(M)\n",
    "    for row_idx, row in enumerate(M):\n",
    "        for col_idx, el in enumerate(row):\n",
    "            if (el == np.max(M, axis=1)[row_idx]) and (el == np.max(M, axis=0)[col_idx]) and (el > 0.3):\n",
    "                maxed_M[row_idx, col_idx] = 1\n",
    "            else:\n",
    "                maxed_M[row_idx, col_idx] = 0\n",
    "    return maxed_M\n",
    "\n",
    "        \n",
    "def cluster_simmilarity(points_current, points_prev):\n",
    "    curr_centroids, curr_map_metrics = measure_clusters(points_current)\n",
    "    prev_centroids, prev_map_metrics = measure_clusters(points_prev)\n",
    "    if len(prev_centroids) == 0 and len(curr_centroids) != 0:\n",
    "        return np.zeros_like(curr_centroids), (None, None)\n",
    "    elif len(curr_centroids) == 0 and len(prev_centroids) != 0:\n",
    "        return np.zeros_like(prev_centroids), (None, None)\n",
    "    elif len(prev_centroids) == 0 and len(curr_centroids) == 0:\n",
    "        return None, (None, None)\n",
    "    \n",
    "    norm_matrix = l2_axis_norm(curr_map_metrics) @ (l2_axis_norm(prev_map_metrics)).T\n",
    "    shape_simmilarity_matrix = curr_map_metrics @ prev_map_metrics.T * (norm_matrix**-1)\n",
    "    \n",
    "    shape_simmilarity_matrix = bi_directional_softmax(shape_simmilarity_matrix/(np.std(shape_simmilarity_matrix)))\n",
    "    \n",
    "    \n",
    "    distance_matrix = np.sqrt(np.abs(\n",
    "                                 np.sum(curr_centroids*curr_centroids, axis=1).reshape(-1,1) \n",
    "                               - 2*(curr_centroids @ prev_centroids.T) \n",
    "                               + np.sum(prev_centroids*prev_centroids, axis=1)\n",
    "                       ))\n",
    "    \n",
    "    distance_matrix = (1/D_MIN) * np.clip(D_MIN - distance_matrix, a_min=0, a_max=D_MIN)\n",
    "    simmilarity_matrix = (2*shape_simmilarity_matrix * distance_matrix)/(shape_simmilarity_matrix + distance_matrix)\n",
    "    return simmilarity_matrix, (distance_matrix, shape_simmilarity_matrix)"
   ]
  },
  {
   "cell_type": "code",
   "execution_count": 21,
   "metadata": {},
   "outputs": [],
   "source": [
    "A = B = None\n",
    "n = 0\n",
    "m = 40\n",
    "for  i in randmap_generator(0.5, 0.2, m):\n",
    "    n += 1\n",
    "    if n == m-4:\n",
    "        A = i\n",
    "    B = i\n",
    "\n",
    "dbscan = DBSCAN(5, min_samples=4)\n",
    "simmilarities, (dist, shape) = cluster_simmilarity(get_clusters(B, dbscan), get_clusters(A, dbscan))"
   ]
  },
  {
   "cell_type": "code",
   "execution_count": 22,
   "metadata": {},
   "outputs": [
    {
     "data": {
      "image/png": "[encoded data removed]",
      "text/plain": [
       "<Figure size 720x432 with 2 Axes>"
      ]
     },
     "metadata": {},
     "output_type": "display_data"
    }
   ],
   "source": [
    "\n",
    "\n",
    "fig, axis = plt.subplots(nrows=1, ncols=2, figsize=(10,6))\n",
    "cnames = ['A','B']\n",
    "centroids, _ = measure_clusters(get_clusters(B, dbscan))\n",
    "axis[0].imshow(B)\n",
    "for centr_number, centroid in enumerate(centroids):\n",
    "    axis[0].set_title(cnames[0])\n",
    "    axis[0].text(x = centroid[1], y = centroid[0], s=str(centr_number), bbox=dict(color='white', alpha=0.1))\n",
    "    \n",
    "centroids, _ = measure_clusters(get_clusters(A, dbscan))\n",
    "axis[1].imshow(A)\n",
    "for centr_number, centroid in enumerate(centroids):\n",
    "    axis[1].set_title(cnames[1])\n",
    "    axis[1].text(x = centroid[1], y = centroid[0], s=str(centr_number), bbox=dict(color='white', alpha=0.1))"
   ]
  },
  {
   "cell_type": "code",
   "execution_count": 23,
   "metadata": {},
   "outputs": [
    {
     "data": {
      "text/plain": [
       "(2, 4)"
      ]
     },
     "execution_count": 23,
     "metadata": {},
     "output_type": "execute_result"
    }
   ],
   "source": [
    "shape.shape"
   ]
  },
  {
   "cell_type": "code",
   "execution_count": 24,
   "metadata": {},
   "outputs": [
    {
     "data": {
      "text/plain": [
       "Text(609.9818181818181, 0.5, 'A')"
      ]
     },
     "execution_count": 24,
     "metadata": {},
     "output_type": "execute_result"
    },
    {
     "data": {
      "image/png": "[encoded data removed]",
      "text/plain": [
       "<Figure size 1152x432 with 4 Axes>"
      ]
     },
     "metadata": {},
     "output_type": "display_data"
    }
   ],
   "source": [
    "fig, axis = plt.subplots(1, 2, figsize=(16,6))\n",
    "sns.heatmap(dist, ax = axis[0])\n",
    "axis[0].set_title('distance similairites')\n",
    "sns.heatmap(shape, ax = axis[1])\n",
    "axis[1].set_title('shape similairites')\n",
    "axis[0].set_xlabel('B')\n",
    "axis[0].set_ylabel('A')\n",
    "axis[1].set_xlabel('B')\n",
    "axis[1].set_ylabel('A')\n"
   ]
  },
  {
   "cell_type": "code",
   "execution_count": 25,
   "metadata": {},
   "outputs": [
    {
     "data": {
      "text/plain": [
       "Text(51.0, 0.5, 'A')"
      ]
     },
     "execution_count": 25,
     "metadata": {},
     "output_type": "execute_result"
    },
    {
     "data": {
      "image/png": "[encoded data removed]",
      "text/plain": [
       "<Figure size 576x432 with 2 Axes>"
      ]
     },
     "metadata": {},
     "output_type": "display_data"
    }
   ],
   "source": [
    "fig, axis = plt.subplots(1, 1, figsize=(8,6))\n",
    "sns.heatmap(simmilarities, ax=axis)\n",
    "axis.set_title('similarity score')\n",
    "axis.set_xlabel('B')\n",
    "axis.set_ylabel('A')"
   ]
  },
  {
   "cell_type": "code",
   "execution_count": 26,
   "metadata": {},
   "outputs": [
    {
     "data": {
      "text/plain": [
       "Text(51.0, 0.5, 'A')"
      ]
     },
     "execution_count": 26,
     "metadata": {},
     "output_type": "execute_result"
    },
    {
     "data": {
      "image/png": "[encoded data removed]",
      "text/plain": [
       "<Figure size 576x432 with 2 Axes>"
      ]
     },
     "metadata": {},
     "output_type": "display_data"
    }
   ],
   "source": [
    "fig, axis = plt.subplots(1, 1, figsize=(8,6))\n",
    "sns.heatmap(find_strong_max(simmilarities), ax=axis)\n",
    "axis.set_title('similarity score')\n",
    "axis.set_xlabel('B')\n",
    "axis.set_ylabel('A')"
   ]
  },
  {
   "cell_type": "code",
   "execution_count": 27,
   "metadata": {},
   "outputs": [],
   "source": [
    "def get_cluster_mapping(simmilarity_matrix):\n",
    "    cluster_pairs =  {}\n",
    "    for col_idx, column in enumerate(find_strong_max(simmilarity_matrix.T)):\n",
    "        if np.max(column) == 1:\n",
    "            cluster_pairs[col_idx] = np.argmax(column)\n",
    "    return cluster_pairs"
   ]
  },
  {
   "cell_type": "code",
   "execution_count": 28,
   "metadata": {},
   "outputs": [
    {
     "data": {
      "image/png": "[encoded data removed]",
      "text/plain": [
       "<Figure size 720x432 with 2 Axes>"
      ]
     },
     "metadata": {},
     "output_type": "display_data"
    }
   ],
   "source": [
    "fig, axis = plt.subplots(nrows=1, ncols=2, figsize=(10,6))\n",
    "\n",
    "centroids, _ = measure_clusters(get_clusters(B, dbscan))\n",
    "axis[0].imshow(B)\n",
    "for centr_number, centroid in enumerate(centroids):\n",
    "    axis[0].set_title(cnames[0])\n",
    "    axis[0].text(x = centroid[1], y = centroid[0], s=str(centr_number), bbox=dict(color='white', alpha=0.1))\n",
    "    \n",
    "centroids, _ = measure_clusters(get_clusters(A, dbscan))\n",
    "axis[1].imshow(A)\n",
    "label_mapping = get_cluster_mapping(simmilarities)\n",
    "for centr_number, centroid in enumerate(centroids):\n",
    "    axis[1].set_title(cnames[1])\n",
    "    if centr_number in label_mapping.keys():\n",
    "        name = str(label_mapping[centr_number])\n",
    "    else:\n",
    "        name = 'new'\n",
    "    axis[1].text(x = centroid[1], y = centroid[0], s=name, bbox=dict(color='white', alpha=0.1))"
   ]
  },
  {
   "cell_type": "markdown",
   "metadata": {},
   "source": [
    "# Phase 1\n",
    "\n",
    "### Novelty"
   ]
  },
  {
   "cell_type": "code",
   "execution_count": 29,
   "metadata": {},
   "outputs": [],
   "source": [
    "def new_and_lost_clusters_between(curr_map, prev_map, dbscan):\n",
    "    simmilarities, (dist, shape) = cluster_simmilarity(get_clusters(curr_map, dbscan),\n",
    "                                                       get_clusters(prev_map, dbscan))\n",
    "    if simmilarities is None:\n",
    "        return 0, 0\n",
    "    \n",
    "    cluster_pairs_matrix = find_strong_max(simmilarities)\n",
    "    \n",
    "    new = np.where(np.sum(cluster_pairs_matrix, axis = 0) == 0)[0].shape[0]\n",
    "    lost = np.where(np.sum(cluster_pairs_matrix, axis = 1) == 0)[0].shape[0]\n",
    "    return new, lost\n",
    "\n",
    "\n",
    "def novelty_measures(curr_map, prev_map, dbscan):\n",
    "    new_points_count = np.sum(np.clip(curr_map-prev_map, a_min=0, a_max=1))\n",
    "    lost_points_count = np.sum(np.clip(prev_map-curr_map, a_min=0, a_max=1))\n",
    "    \n",
    "    number_of_new_clusters, number_of_lost_clusters = new_and_lost_clusters_between(curr_map, prev_map, dbscan)\n",
    "    \n",
    "    curr_clusters = get_clusters(curr_map, dbscan)\n",
    "    curr_clusters = curr_clusters[np.where(curr_clusters[:,0] != -1)]\n",
    "    prev_clusters = get_clusters(prev_map, dbscan)\n",
    "    prev_clusters = prev_clusters[np.where(prev_clusters[:,0] != -1)]\n",
    "    points_in_clusters_shared = np.vstack((curr_clusters, prev_clusters)).shape[0] \\\n",
    "                            - np.unique(np.vstack((curr_clusters, prev_clusters)), axis=0).shape[0]\n",
    "    new_points_in_clusters_count = curr_clusters.shape[0] - points_in_clusters_shared\n",
    "    lost_points_in_clusters_count = prev_clusters.shape[0] - points_in_clusters_shared\n",
    "    \n",
    "    return (new_points_count,\n",
    "            lost_points_count,\n",
    "            number_of_new_clusters,\n",
    "            number_of_lost_clusters,\n",
    "            new_points_in_clusters_count,\n",
    "            lost_points_in_clusters_count)\n",
    "    "
   ]
  },
  {
   "cell_type": "code",
   "execution_count": 30,
   "metadata": {},
   "outputs": [
    {
     "data": {
      "text/plain": [
       "(36.0, 19.0, 0, 2, 34, 11)"
      ]
     },
     "execution_count": 30,
     "metadata": {},
     "output_type": "execute_result"
    }
   ],
   "source": [
    "novelty_measures(A, B, dbscan)"
   ]
  },
  {
   "cell_type": "markdown",
   "metadata": {},
   "source": [
    "### Outlierness"
   ]
  },
  {
   "cell_type": "code",
   "execution_count": 31,
   "metadata": {},
   "outputs": [],
   "source": [
    "from sklearn.neighbors import NearestNeighbors"
   ]
  },
  {
   "cell_type": "code",
   "execution_count": 32,
   "metadata": {},
   "outputs": [],
   "source": [
    "def local_density_imbalance(curr_map, n_neighbors):\n",
    "    points = np.array(np.where(curr_map != 0)).T\n",
    "    near_neigh = NearestNeighbors(n_neighbors=1+n_neighbors)\n",
    "    near_neigh.fit(points)\n",
    "    \n",
    "\n",
    "    std_of_avg_knn_distance = np.std(np.mean(near_neigh.kneighbors(points)[0][:,1:], axis=1))\n",
    "    return std_of_avg_knn_distance\n",
    "\n",
    "def directional_density_imbalance(curr_map, n_neighbors):\n",
    "    points = np.array(np.where(curr_map != 0)).T\n",
    "    near_neigh = NearestNeighbors(n_neighbors=1+n_neighbors)\n",
    "    near_neigh.fit(points)\n",
    "    densities = np.sum(near_neigh.kneighbors(points)[0][:,1:], axis=1)\n",
    "    lr = LinearRegression()\n",
    "    lr.fit(X=points, y=densities)\n",
    "    return lr.coef_\n",
    "\n",
    "        \n",
    "def outlierness_measures(curr_map, dbscan, n_neighbors=5):\n",
    "    \n",
    "    curr_clusters = get_clusters(curr_map, dbscan)\n",
    "    curr_clusters = curr_clusters[np.where(curr_clusters[:,0] != -1)]\n",
    "    number_of_clusters = np.unique(curr_clusters[:,0]).shape[0]\n",
    "    total_points = np.where(curr_map != 0)[0].shape[0]\n",
    "    points_in_clusters = curr_clusters.shape[0]\n",
    "    total_points_normalized = total_points\n",
    "    \n",
    "    directional_imbalance_coef =  directional_density_imbalance(curr_map, n_neighbors)\n",
    "    local_imbalance_coef = local_density_imbalance(curr_map, n_neighbors)\n",
    "    \n",
    "    x_directional_imbalance_coef, y_directional_imbalance_coef = directional_imbalance_coef\n",
    "    return (number_of_clusters,\n",
    "            points_in_clusters,\n",
    "            total_points_normalized,\n",
    "            x_directional_imbalance_coef,\n",
    "            y_directional_imbalance_coef,\n",
    "            local_imbalance_coef)\n",
    "    "
   ]
  },
  {
   "cell_type": "code",
   "execution_count": 33,
   "metadata": {},
   "outputs": [
    {
     "data": {
      "text/plain": [
       "(4, 40, 73, 1.0562329286387315, 0.40944234504977556, 21.629547838393904)"
      ]
     },
     "execution_count": 33,
     "metadata": {},
     "output_type": "execute_result"
    }
   ],
   "source": [
    "outlierness_measures(A, dbscan)"
   ]
  },
  {
   "cell_type": "code",
   "execution_count": 34,
   "metadata": {},
   "outputs": [],
   "source": [
    "num_trees = 30\n",
    "tree_size = 6\n",
    "shingle_size = 2\n",
    "\n",
    "curr_map = np.zeros((256,256))\n",
    "codisp_hist = []\n",
    "\n",
    "forest = []\n",
    "for _ in range(num_trees):\n",
    "    tree = rrcf.RCTree()\n",
    "    forest.append(tree)\n",
    "\n",
    "index = 0\n",
    "\n",
    "lines = []\n",
    "blobs = []"
   ]
  },
  {
   "cell_type": "code",
   "execution_count": 35,
   "metadata": {},
   "outputs": [
    {
     "name": "stderr",
     "output_type": "stream",
     "text": [
      "/usr/lib/python3/dist-packages/ipykernel_launcher.py:77: RuntimeWarning: divide by zero encountered in true_divide\n",
      "/usr/lib/python3/dist-packages/ipykernel_launcher.py:49: RuntimeWarning: invalid value encountered in true_divide\n",
      "/usr/lib/python3/dist-packages/ipykernel_launcher.py:50: RuntimeWarning: invalid value encountered in true_divide\n",
      "/usr/lib/python3/dist-packages/ipykernel_launcher.py:77: RuntimeWarning: divide by zero encountered in true_divide\n",
      "/usr/lib/python3/dist-packages/ipykernel_launcher.py:49: RuntimeWarning: invalid value encountered in true_divide\n",
      "/usr/lib/python3/dist-packages/ipykernel_launcher.py:50: RuntimeWarning: invalid value encountered in true_divide\n",
      "/usr/lib/python3/dist-packages/ipykernel_launcher.py:77: RuntimeWarning: divide by zero encountered in true_divide\n",
      "/usr/lib/python3/dist-packages/ipykernel_launcher.py:49: RuntimeWarning: invalid value encountered in true_divide\n",
      "/usr/lib/python3/dist-packages/ipykernel_launcher.py:50: RuntimeWarning: invalid value encountered in true_divide\n",
      "/usr/lib/python3/dist-packages/ipykernel_launcher.py:77: RuntimeWarning: divide by zero encountered in true_divide\n",
      "/usr/lib/python3/dist-packages/ipykernel_launcher.py:49: RuntimeWarning: invalid value encountered in true_divide\n",
      "/usr/lib/python3/dist-packages/ipykernel_launcher.py:50: RuntimeWarning: invalid value encountered in true_divide\n",
      "/usr/lib/python3/dist-packages/ipykernel_launcher.py:77: RuntimeWarning: divide by zero encountered in true_divide\n",
      "/usr/lib/python3/dist-packages/ipykernel_launcher.py:49: RuntimeWarning: invalid value encountered in true_divide\n",
      "/usr/lib/python3/dist-packages/ipykernel_launcher.py:50: RuntimeWarning: invalid value encountered in true_divide\n",
      "/usr/lib/python3/dist-packages/ipykernel_launcher.py:77: RuntimeWarning: divide by zero encountered in true_divide\n",
      "/usr/lib/python3/dist-packages/ipykernel_launcher.py:49: RuntimeWarning: invalid value encountered in true_divide\n",
      "/usr/lib/python3/dist-packages/ipykernel_launcher.py:50: RuntimeWarning: invalid value encountered in true_divide\n",
      "/usr/lib/python3/dist-packages/ipykernel_launcher.py:77: RuntimeWarning: divide by zero encountered in true_divide\n",
      "/usr/lib/python3/dist-packages/ipykernel_launcher.py:49: RuntimeWarning: invalid value encountered in true_divide\n",
      "/usr/lib/python3/dist-packages/ipykernel_launcher.py:50: RuntimeWarning: invalid value encountered in true_divide\n",
      "/usr/lib/python3/dist-packages/ipykernel_launcher.py:77: RuntimeWarning: divide by zero encountered in true_divide\n",
      "/usr/lib/python3/dist-packages/ipykernel_launcher.py:49: RuntimeWarning: invalid value encountered in true_divide\n",
      "/usr/lib/python3/dist-packages/ipykernel_launcher.py:50: RuntimeWarning: invalid value encountered in true_divide\n",
      "/usr/lib/python3/dist-packages/ipykernel_launcher.py:77: RuntimeWarning: divide by zero encountered in true_divide\n",
      "/usr/lib/python3/dist-packages/ipykernel_launcher.py:49: RuntimeWarning: invalid value encountered in true_divide\n",
      "/usr/lib/python3/dist-packages/ipykernel_launcher.py:50: RuntimeWarning: invalid value encountered in true_divide\n",
      "/usr/lib/python3/dist-packages/ipykernel_launcher.py:77: RuntimeWarning: divide by zero encountered in true_divide\n",
      "/usr/lib/python3/dist-packages/ipykernel_launcher.py:49: RuntimeWarning: invalid value encountered in true_divide\n",
      "/usr/lib/python3/dist-packages/ipykernel_launcher.py:50: RuntimeWarning: invalid value encountered in true_divide\n",
      "/usr/lib/python3/dist-packages/ipykernel_launcher.py:77: RuntimeWarning: divide by zero encountered in true_divide\n",
      "/usr/lib/python3/dist-packages/ipykernel_launcher.py:49: RuntimeWarning: invalid value encountered in true_divide\n",
      "/usr/lib/python3/dist-packages/ipykernel_launcher.py:50: RuntimeWarning: invalid value encountered in true_divide\n",
      "/usr/lib/python3/dist-packages/ipykernel_launcher.py:77: RuntimeWarning: divide by zero encountered in true_divide\n",
      "/usr/lib/python3/dist-packages/ipykernel_launcher.py:49: RuntimeWarning: invalid value encountered in true_divide\n",
      "/usr/lib/python3/dist-packages/ipykernel_launcher.py:50: RuntimeWarning: invalid value encountered in true_divide\n",
      "/usr/lib/python3/dist-packages/ipykernel_launcher.py:77: RuntimeWarning: divide by zero encountered in true_divide\n",
      "/usr/lib/python3/dist-packages/ipykernel_launcher.py:49: RuntimeWarning: invalid value encountered in true_divide\n",
      "/usr/lib/python3/dist-packages/ipykernel_launcher.py:50: RuntimeWarning: invalid value encountered in true_divide\n",
      "/usr/lib/python3/dist-packages/ipykernel_launcher.py:77: RuntimeWarning: divide by zero encountered in true_divide\n",
      "/usr/lib/python3/dist-packages/ipykernel_launcher.py:49: RuntimeWarning: invalid value encountered in true_divide\n",
      "/usr/lib/python3/dist-packages/ipykernel_launcher.py:50: RuntimeWarning: invalid value encountered in true_divide\n",
      "/usr/lib/python3/dist-packages/ipykernel_launcher.py:77: RuntimeWarning: divide by zero encountered in true_divide\n",
      "/usr/lib/python3/dist-packages/ipykernel_launcher.py:49: RuntimeWarning: invalid value encountered in true_divide\n",
      "/usr/lib/python3/dist-packages/ipykernel_launcher.py:50: RuntimeWarning: invalid value encountered in true_divide\n",
      "/usr/lib/python3/dist-packages/ipykernel_launcher.py:77: RuntimeWarning: divide by zero encountered in true_divide\n",
      "/usr/lib/python3/dist-packages/ipykernel_launcher.py:49: RuntimeWarning: invalid value encountered in true_divide\n",
      "/usr/lib/python3/dist-packages/ipykernel_launcher.py:50: RuntimeWarning: invalid value encountered in true_divide\n",
      "/usr/lib/python3/dist-packages/ipykernel_launcher.py:77: RuntimeWarning: divide by zero encountered in true_divide\n",
      "/usr/lib/python3/dist-packages/ipykernel_launcher.py:49: RuntimeWarning: invalid value encountered in true_divide\n",
      "/usr/lib/python3/dist-packages/ipykernel_launcher.py:50: RuntimeWarning: invalid value encountered in true_divide\n",
      "/usr/lib/python3/dist-packages/ipykernel_launcher.py:77: RuntimeWarning: divide by zero encountered in true_divide\n",
      "/usr/lib/python3/dist-packages/ipykernel_launcher.py:49: RuntimeWarning: invalid value encountered in true_divide\n",
      "/usr/lib/python3/dist-packages/ipykernel_launcher.py:50: RuntimeWarning: invalid value encountered in true_divide\n",
      "/usr/lib/python3/dist-packages/ipykernel_launcher.py:77: RuntimeWarning: divide by zero encountered in true_divide\n",
      "/usr/lib/python3/dist-packages/ipykernel_launcher.py:49: RuntimeWarning: invalid value encountered in true_divide\n",
      "/usr/lib/python3/dist-packages/ipykernel_launcher.py:50: RuntimeWarning: invalid value encountered in true_divide\n",
      "/usr/lib/python3/dist-packages/ipykernel_launcher.py:77: RuntimeWarning: divide by zero encountered in true_divide\n",
      "/usr/lib/python3/dist-packages/ipykernel_launcher.py:49: RuntimeWarning: invalid value encountered in true_divide\n",
      "/usr/lib/python3/dist-packages/ipykernel_launcher.py:50: RuntimeWarning: invalid value encountered in true_divide\n",
      "/usr/lib/python3/dist-packages/ipykernel_launcher.py:77: RuntimeWarning: divide by zero encountered in true_divide\n",
      "/usr/lib/python3/dist-packages/ipykernel_launcher.py:49: RuntimeWarning: invalid value encountered in true_divide\n",
      "/usr/lib/python3/dist-packages/ipykernel_launcher.py:50: RuntimeWarning: invalid value encountered in true_divide\n",
      "/usr/lib/python3/dist-packages/ipykernel_launcher.py:77: RuntimeWarning: divide by zero encountered in true_divide\n",
      "/usr/lib/python3/dist-packages/ipykernel_launcher.py:49: RuntimeWarning: invalid value encountered in true_divide\n",
      "/usr/lib/python3/dist-packages/ipykernel_launcher.py:50: RuntimeWarning: invalid value encountered in true_divide\n",
      "/usr/lib/python3/dist-packages/ipykernel_launcher.py:77: RuntimeWarning: divide by zero encountered in true_divide\n",
      "/usr/lib/python3/dist-packages/ipykernel_launcher.py:49: RuntimeWarning: invalid value encountered in true_divide\n",
      "/usr/lib/python3/dist-packages/ipykernel_launcher.py:50: RuntimeWarning: invalid value encountered in true_divide\n",
      "/usr/lib/python3/dist-packages/ipykernel_launcher.py:77: RuntimeWarning: divide by zero encountered in true_divide\n",
      "/usr/lib/python3/dist-packages/ipykernel_launcher.py:49: RuntimeWarning: invalid value encountered in true_divide\n",
      "/usr/lib/python3/dist-packages/ipykernel_launcher.py:50: RuntimeWarning: invalid value encountered in true_divide\n"
     ]
    },
    {
     "name": "stderr",
     "output_type": "stream",
     "text": [
      "/usr/lib/python3/dist-packages/ipykernel_launcher.py:77: RuntimeWarning: divide by zero encountered in true_divide\n",
      "/usr/lib/python3/dist-packages/ipykernel_launcher.py:49: RuntimeWarning: invalid value encountered in true_divide\n",
      "/usr/lib/python3/dist-packages/ipykernel_launcher.py:50: RuntimeWarning: invalid value encountered in true_divide\n",
      "/usr/lib/python3/dist-packages/ipykernel_launcher.py:77: RuntimeWarning: divide by zero encountered in true_divide\n",
      "/usr/lib/python3/dist-packages/ipykernel_launcher.py:49: RuntimeWarning: invalid value encountered in true_divide\n",
      "/usr/lib/python3/dist-packages/ipykernel_launcher.py:50: RuntimeWarning: invalid value encountered in true_divide\n"
     ]
    }
   ],
   "source": [
    "# Use the \"shingle\" generator to create rolling window\n",
    "rgen = randmap_generator(gaussian_blob_prob=0.03, line_prob=0.02, n=300, starting_map=curr_map)\n",
    "# Create a dict to store anomaly score of each point\n",
    "rgen_shingled = rrcf.shingle(rgen, size=shingle_size)\n",
    "# For each shingle...\n",
    "start = True\n",
    "for rmap in rgen_shingled:\n",
    "    if start is True:\n",
    "        start = False\n",
    "        pass\n",
    "    else:\n",
    "        rmap_measures = novelty_measures(curr_map = rmap[1], prev_map=rmap[0], dbscan=dbscan)\n",
    "        codisps = []\n",
    "        for tree in forest:\n",
    "            new_index = np.random.randint(tree_size)\n",
    "            if len(tree.leaves) > tree_size:\n",
    "                tree.forget_point(new_index)\n",
    "                tree.insert_point(rmap_measures, index=new_index)\n",
    "                codisps.append(tree.codisp(new_index))\n",
    "            else:\n",
    "                tree.insert_point(rmap_measures, index=index)\n",
    "                codisps.append(tree.codisp(index))\n",
    "        new_codisp = np.mean(codisps)\n",
    "#         print(new_codisp)\n",
    "        codisp_hist.append(new_codisp)\n",
    "        index += 1\n",
    "    "
   ]
  },
  {
   "cell_type": "code",
   "execution_count": 36,
   "metadata": {},
   "outputs": [
    {
     "data": {
      "text/plain": [
       "<matplotlib.collections.LineCollection at 0x7f7fa2302828>"
      ]
     },
     "execution_count": 36,
     "metadata": {},
     "output_type": "execute_result"
    },
    {
     "data": {
      "image/png": "[encoded data removed]",
      "text/plain": [
       "<Figure size 1008x504 with 1 Axes>"
      ]
     },
     "metadata": {},
     "output_type": "display_data"
    }
   ],
   "source": [
    "fig, ax1 = plt.subplots(figsize=(14, 7))\n",
    "ax1.plot(codisp_hist)\n",
    "ax1.vlines(blobs, ymin=0, ymax=10, colors='red')\n",
    "ax1.vlines(lines, ymin=0, ymax=10, colors='green')"
   ]
  },
  {
   "cell_type": "code",
   "execution_count": null,
   "metadata": {},
   "outputs": [],
   "source": []
  },
  {
   "cell_type": "code",
   "execution_count": null,
   "metadata": {},
   "outputs": [],
   "source": []
  },
  {
   "cell_type": "code",
   "execution_count": null,
   "metadata": {},
   "outputs": [],
   "source": []
  },
  {
   "cell_type": "code",
   "execution_count": null,
   "metadata": {},
   "outputs": [],
   "source": []
  },
  {
   "cell_type": "code",
   "execution_count": null,
   "metadata": {},
   "outputs": [],
   "source": []
  },
  {
   "cell_type": "code",
   "execution_count": null,
   "metadata": {},
   "outputs": [],
   "source": []
  }
 ],
 "metadata": {
  "kernelspec": {
   "display_name": "Python 3",
   "language": "python",
   "name": "python3"
  },
  "language_info": {
   "codemirror_mode": {
    "name": "ipython",
    "version": 3
   },
   "file_extension": ".py",
   "mimetype": "text/x-python",
   "name": "python",
   "nbconvert_exporter": "python",
   "pygments_lexer": "ipython3",
   "version": "3.6.9"
  }
 },
 "nbformat": 4,
 "nbformat_minor": 2
}
